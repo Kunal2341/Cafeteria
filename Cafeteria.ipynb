{
 "cells": [
  {
   "cell_type": "markdown",
   "metadata": {},
   "source": [
    "# FINAL CODES...."
   ]
  },
  {
   "cell_type": "markdown",
   "metadata": {},
   "source": [
    "# FACE RECOGNITION TRAINING  (faces-train1.py)"
   ]
  },
  {
   "cell_type": "code",
   "execution_count": null,
   "metadata": {},
   "outputs": [],
   "source": [
    "os.chdir('/Users/NidhiAneja/Documents/AI/Cafeteria/OpenCV-Python-Series-master/src/')\n",
    "BASE_DIR = os.getcwd()"
   ]
  },
  {
   "cell_type": "code",
   "execution_count": null,
   "metadata": {},
   "outputs": [],
   "source": [
    "image_dir = os.path.join(BASE_DIR, \"images\")"
   ]
  },
  {
   "cell_type": "code",
   "execution_count": null,
   "metadata": {},
   "outputs": [],
   "source": [
    "face_cascade = cv2.CascadeClassifier('cascades/data/haarcascade_frontalface_alt2.xml') # CV MODEL\n",
    "recognizer = cv2.face.LBPHFaceRecognizer_create() "
   ]
  },
  {
   "cell_type": "code",
   "execution_count": null,
   "metadata": {},
   "outputs": [],
   "source": [
    "current_id = 0\n",
    "label_ids = {}\n",
    "y_labels = []\n",
    "x_train = []"
   ]
  },
  {
   "cell_type": "code",
   "execution_count": null,
   "metadata": {},
   "outputs": [],
   "source": [
    "for root, dirs, files in os.walk(image_dir):\n",
    "    for file in files:\n",
    "        if file.endswith(\"png\") or file.endswith(\"jpg\"):\n",
    "            path = os.path.join(root, file)\n",
    "            label = os.path.basename(root).replace(\" \", \"-\").lower()\n",
    "            #print(label, path)\n",
    "            if not label in label_ids:\n",
    "                label_ids[label] = current_id\n",
    "                current_id += 1\n",
    "            id_ = label_ids[label]\n",
    "            #print(label_ids)\n",
    "            #y_labels.append(label) # some number\n",
    "            #x_train.append(path) # verify this image, turn into a NUMPY arrray, GRAY\n",
    "            pil_image = Image.open(path).convert(\"L\") # grayscale\n",
    "            size = (550, 550)\n",
    "            final_image = pil_image.resize(size, Image.ANTIALIAS)\n",
    "            image_array = np.array(final_image, \"uint8\")\n",
    "            #print(image_array)\n",
    "            faces = face_cascade.detectMultiScale(image_array, scaleFactor=1.5, minNeighbors=5)\n",
    "\n",
    "            for (x,y,w,h) in faces:\n",
    "                roi = image_array[y:y+h, x:x+w]\n",
    "                x_train.append(roi)\n",
    "                y_labels.append(id_)"
   ]
  },
  {
   "cell_type": "code",
   "execution_count": null,
   "metadata": {},
   "outputs": [],
   "source": [
    "with open(os.path.join(BASE_DIR, \"pickles/face-labels.pickle\"), 'wb') as f:\n",
    "\tpickle.dump(label_ids, f)"
   ]
  },
  {
   "cell_type": "raw",
   "metadata": {},
   "source": [
    "# SAVING MODEL"
   ]
  },
  {
   "cell_type": "code",
   "execution_count": null,
   "metadata": {},
   "outputs": [],
   "source": [
    "recognizer.train(x_train, np.array(y_labels))\n",
    "recognizer.save(os.path.join(BASE_DIR, \"recognizers/face-trainner.yml\") )"
   ]
  },
  {
   "cell_type": "markdown",
   "metadata": {},
   "source": [
    "# HUMAN FACE DETECTION & PHOTO CAPTURE (faces1.py)"
   ]
  },
  {
   "cell_type": "code",
   "execution_count": null,
   "metadata": {},
   "outputs": [],
   "source": [
    "import numpy as np\n",
    "import cv2\n",
    "import pickle\n",
    "\n",
    "os.chdir('/Users/NidhiAneja/Documents/AI/Cafeteria/OpenCV-Python-Series-master/src')\n",
    "BASE_DIR = os.getcwd()\n",
    "\n",
    "face_cascade = cv2.CascadeClassifier(os.path.join(BASE_DIR,'cascades/data/haarcascade_frontalface_alt2.xml') )\n",
    "eye_cascade = cv2.CascadeClassifier(os.path.join(BASE_DIR,'cascades/data/haarcascade_eye.xml') )\n",
    "smile_cascade = cv2.CascadeClassifier(os.path.join(BASE_DIR, 'cascades/data/haarcascade_smile.xml'))"
   ]
  },
  {
   "cell_type": "code",
   "execution_count": null,
   "metadata": {},
   "outputs": [],
   "source": [
    "recognizer = cv2.face.LBPHFaceRecognizer_create()\n",
    "recognizer.read(os.path.join(BASE_DIR, 'recognizers/face-trainner.yml') )"
   ]
  },
  {
   "cell_type": "code",
   "execution_count": null,
   "metadata": {},
   "outputs": [],
   "source": [
    "labels = {\"person_name\": 1}\n",
    "with open(\"pickles/face-labels.pickle\", 'rb') as f:\n",
    "\tog_labels = pickle.load(f)\n",
    "\tlabels = {v:k for k,v in og_labels.items()}\n",
    "\n",
    "cap = cv2.VideoCapture(0)\n",
    "\n",
    "while(True):\n",
    "    # Capture frame-by-frame\n",
    "    ret, frame = cap.read()\n",
    "    gray  = cv2.cvtColor(frame, cv2.COLOR_BGR2GRAY)\n",
    "    faces = face_cascade.detectMultiScale(gray, scaleFactor=1.5, minNeighbors=5)\n",
    "    for (x, y, w, h) in faces:\n",
    "    \t#print(x,y,w,h)\n",
    "    \troi_gray = gray[y:y+h, x:x+w] #(ycord_start, ycord_end)\n",
    "    \troi_color = frame[y:y+h, x:x+w]\n",
    "\n",
    "    \t# recognize? deep learned model predict keras tensorflow pytorch scikit learn\n",
    "    \tid_, conf = recognizer.predict(roi_gray)\n",
    "    \tif conf>=40:\n",
    "    \t\t#print(5: #id_)\n",
    "    \t\tprint(labels[id_])\n",
    "    \t\tfont = cv2.FONT_HERSHEY_SIMPLEX\n",
    "    \t\tname = labels[id_]\n",
    "    \t\tcolor = (255, 255, 255)\n",
    "    \t\tstroke = 2\n",
    "    \t\tcv2.putText(frame, name, (x,y), font, 1, color, stroke, cv2.LINE_AA)\n",
    "    \timg_item = \"tt.png\"\n",
    "    \tcv2.imwrite(img_item, roi_color)\n",
    "\n",
    "    \tcolor = (255, 0, 0) #BGR 0-255 \n",
    "    \tstroke = 2\n",
    "    \tend_cord_x = x + w\n",
    "    \tend_cord_y = y + h\n",
    "    \tcv2.rectangle(frame, (x, y), (end_cord_x, end_cord_y), color, stroke)\n",
    "    \t#subitems = smile_cascade.detectMultiScale(roi_gray)\n",
    "    \t#for (ex,ey,ew,eh) in subitems:\n",
    "    \t#\tcv2.rectangle(roi_color,(ex,ey),(ex+ew,ey+eh),(0,255,0),2)\n",
    "    \twith open(\"Names.txt\", \"w+\") as myfile:\n",
    "            myfile.write(\"I detect \" + (labels[id_]) + \".\\n\")\n",
    "    \t#labels[id_] = the_name_detect\n",
    "        \n",
    "            \n",
    "        \n",
    "        \n",
    "    # Display the resulting frame\n",
    "        \n",
    "    cv2.imshow('frame',frame)\n",
    "    #FIX SO PRINTS ALL OF THE NAMES\n",
    "    '''output = open(\"Names.txt\",\"w+\")\n",
    "    output.write(\"I detect \" + (labels[id_]) + \".\\n\")'''\n",
    "    if cv2.waitKey(2) & 0xFF == ord('q'):\n",
    "        #output.close()\n",
    "        break\n",
    "        \n",
    "        \n",
    "\n"
   ]
  },
  {
   "cell_type": "code",
   "execution_count": null,
   "metadata": {},
   "outputs": [],
   "source": [
    "#output.read()"
   ]
  },
  {
   "cell_type": "code",
   "execution_count": null,
   "metadata": {},
   "outputs": [],
   "source": [
    "# When everything done, release the capture\n",
    "cap.release()\n",
    "cv2.destroyAllWindows()"
   ]
  },
  {
   "cell_type": "code",
   "execution_count": null,
   "metadata": {},
   "outputs": [],
   "source": []
  }
 ],
 "metadata": {
  "kernelspec": {
   "display_name": "Python 3",
   "language": "python",
   "name": "python3"
  },
  "language_info": {
   "codemirror_mode": {
    "name": "ipython",
    "version": 3
   },
   "file_extension": ".py",
   "mimetype": "text/x-python",
   "name": "python",
   "nbconvert_exporter": "python",
   "pygments_lexer": "ipython3",
   "version": "3.6.5"
  }
 },
 "nbformat": 4,
 "nbformat_minor": 2
}
