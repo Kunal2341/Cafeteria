{
 "cells": [
  {
   "cell_type": "markdown",
   "metadata": {},
   "source": [
    "# SORT ALL OF THE OBJECTS THE COMES OUT OF LAUNCHPAD\n",
    "JUST PUT ALL OF THE FOLDERS THAT ARE OUTPUTED FROM LAUNCHPAD IN A SPECIFIC FOLDER AND THAT IS CALLED BASE DIR"
   ]
  },
  {
   "cell_type": "code",
   "execution_count": 61,
   "metadata": {},
   "outputs": [],
   "source": [
    "import os\n",
    "import shutil"
   ]
  },
  {
   "cell_type": "code",
   "execution_count": 62,
   "metadata": {},
   "outputs": [],
   "source": [
    "base_dir = '/Users/NidhiAneja/Documents/AI/Cafeteria/OpenCV-Python-Series-master/src_final/final_ph_out/0328/0328/Kunal/'\n",
    "all_folder = base_dir"
   ]
  },
  {
   "cell_type": "code",
   "execution_count": 63,
   "metadata": {},
   "outputs": [
    {
     "name": "stdout",
     "output_type": "stream",
     "text": [
      "['srit_659', 'kunal_871', 'srit_346', 'sah_303', 'srit_353', 'sah_241', 'sah_676', 'srit_449', 'kunal_460']\n"
     ]
    }
   ],
   "source": [
    "out_launch = []\n",
    "for folders in os.listdir(all_folder):\n",
    "    #folder is one output of the lauchpad\n",
    "    out_launch.append(folders)\n",
    "    if '.DS_Store' in out_launch: out_launch.remove('.DS_Store')   \n",
    "print(out_launch)"
   ]
  },
  {
   "cell_type": "code",
   "execution_count": 64,
   "metadata": {},
   "outputs": [
    {
     "name": "stdout",
     "output_type": "stream",
     "text": [
      "/Users/NidhiAneja/Documents/AI/Cafeteria/OpenCV-Python-Series-master/src_final/final_ph_out/0328/0328/Kunal/srit_659/objects\n",
      "Working\n",
      "/Users/NidhiAneja/Documents/AI/Cafeteria/OpenCV-Python-Series-master/src_final/final_ph_out/0328/0328/Kunal/kunal_871/objects\n",
      "Working\n",
      "/Users/NidhiAneja/Documents/AI/Cafeteria/OpenCV-Python-Series-master/src_final/final_ph_out/0328/0328/Kunal/srit_346/objects\n",
      "Working\n",
      "/Users/NidhiAneja/Documents/AI/Cafeteria/OpenCV-Python-Series-master/src_final/final_ph_out/0328/0328/Kunal/sah_303/objects\n",
      "Working\n",
      "/Users/NidhiAneja/Documents/AI/Cafeteria/OpenCV-Python-Series-master/src_final/final_ph_out/0328/0328/Kunal/srit_353/objects\n",
      "Working\n",
      "/Users/NidhiAneja/Documents/AI/Cafeteria/OpenCV-Python-Series-master/src_final/final_ph_out/0328/0328/Kunal/sah_241/objects\n",
      "Working\n",
      "/Users/NidhiAneja/Documents/AI/Cafeteria/OpenCV-Python-Series-master/src_final/final_ph_out/0328/0328/Kunal/sah_676/objects\n",
      "Working\n",
      "/Users/NidhiAneja/Documents/AI/Cafeteria/OpenCV-Python-Series-master/src_final/final_ph_out/0328/0328/Kunal/srit_449/objects\n",
      "Working\n",
      "/Users/NidhiAneja/Documents/AI/Cafeteria/OpenCV-Python-Series-master/src_final/final_ph_out/0328/0328/Kunal/kunal_460/objects\n",
      "Working\n"
     ]
    }
   ],
   "source": [
    "allojectfld = []\n",
    "for each_launchpad_output in out_launch:\n",
    "    #print(each_launchpad_output)\n",
    "    file = os.path.join(base_dir, each_launchpad_output)\n",
    "    x = os.path.join(file, 'objects')\n",
    "    allojectfld.append(x)\n",
    "#print(allojectfld)\n",
    "for each_file in allojectfld:\n",
    "    print(each_file)\n",
    "    if os.path.exists(each_file):\n",
    "        print(\"Working\")\n",
    "    else:\n",
    "        print(\"STOP EVERYTHING AND FIX\")"
   ]
  },
  {
   "cell_type": "code",
   "execution_count": 69,
   "metadata": {},
   "outputs": [
    {
     "name": "stdout",
     "output_type": "stream",
     "text": [
      "/Users/NidhiAneja/Documents/AI/Cafeteria/OpenCV-Python-Series-master/src_final/final_ph_out/0328/0328/Kunal/srit_659/objects/McNuggets3869.jpg\n",
      "/Users/NidhiAneja/Documents/AI/Cafeteria/OpenCV-Python-Series-master/src_final/final_ph_out/0328/0328/Kunal/srit_659/objects/McNuggets7946.jpg\n",
      "/Users/NidhiAneja/Documents/AI/Cafeteria/OpenCV-Python-Series-master/src_final/final_ph_out/0328/0328/Kunal/srit_659/objects/Chips9339.jpg\n",
      "/Users/NidhiAneja/Documents/AI/Cafeteria/OpenCV-Python-Series-master/src_final/final_ph_out/0328/0328/Kunal/srit_659/objects/McNuggets8674.jpg\n",
      "/Users/NidhiAneja/Documents/AI/Cafeteria/OpenCV-Python-Series-master/src_final/final_ph_out/0328/0328/Kunal/srit_659/objects/GoldenGrahamsCereal6851.jpg\n",
      "/Users/NidhiAneja/Documents/AI/Cafeteria/OpenCV-Python-Series-master/src_final/final_ph_out/0328/0328/Kunal/srit_659/objects/McNuggets6658.jpg\n",
      "/Users/NidhiAneja/Documents/AI/Cafeteria/OpenCV-Python-Series-master/src_final/final_ph_out/0328/0328/Kunal/srit_659/objects/McNuggets2979.jpg\n",
      "/Users/NidhiAneja/Documents/AI/Cafeteria/OpenCV-Python-Series-master/src_final/final_ph_out/0328/0328/Kunal/srit_659/objects/McNuggets7278.jpg\n",
      "/Users/NidhiAneja/Documents/AI/Cafeteria/OpenCV-Python-Series-master/src_final/final_ph_out/0328/0328/Kunal/srit_659/objects/GoldenGrahamsCereal3555.jpg\n",
      "/Users/NidhiAneja/Documents/AI/Cafeteria/OpenCV-Python-Series-master/src_final/final_ph_out/0328/0328/Kunal/srit_659/objects/McNuggets2272.jpg\n",
      "/Users/NidhiAneja/Documents/AI/Cafeteria/OpenCV-Python-Series-master/src_final/final_ph_out/0328/0328/Kunal/kunal_871/objects/FruitSnacks631.jpg\n",
      "/Users/NidhiAneja/Documents/AI/Cafeteria/OpenCV-Python-Series-master/src_final/final_ph_out/0328/0328/Kunal/kunal_871/objects/QuarterPounder3310.jpg\n",
      "/Users/NidhiAneja/Documents/AI/Cafeteria/OpenCV-Python-Series-master/src_final/final_ph_out/0328/0328/Kunal/kunal_871/objects/FruitSnacks7648.jpg\n",
      "/Users/NidhiAneja/Documents/AI/Cafeteria/OpenCV-Python-Series-master/src_final/final_ph_out/0328/0328/Kunal/kunal_871/objects/FruitSnacks9075.jpg\n",
      "/Users/NidhiAneja/Documents/AI/Cafeteria/OpenCV-Python-Series-master/src_final/final_ph_out/0328/0328/Kunal/kunal_871/objects/FruitSnacks6554.jpg\n",
      "/Users/NidhiAneja/Documents/AI/Cafeteria/OpenCV-Python-Series-master/src_final/final_ph_out/0328/0328/Kunal/kunal_871/objects/CinamonToastCrunch3597.jpg\n",
      "/Users/NidhiAneja/Documents/AI/Cafeteria/OpenCV-Python-Series-master/src_final/final_ph_out/0328/0328/Kunal/kunal_871/objects/FruitSnacks6533.jpg\n",
      "/Users/NidhiAneja/Documents/AI/Cafeteria/OpenCV-Python-Series-master/src_final/final_ph_out/0328/0328/Kunal/kunal_871/objects/FruitSnacks6309.jpg\n",
      "/Users/NidhiAneja/Documents/AI/Cafeteria/OpenCV-Python-Series-master/src_final/final_ph_out/0328/0328/Kunal/kunal_871/objects/McNuggets3895.jpg\n",
      "/Users/NidhiAneja/Documents/AI/Cafeteria/OpenCV-Python-Series-master/src_final/final_ph_out/0328/0328/Kunal/kunal_871/objects/FruitSnacks6280.jpg\n",
      "/Users/NidhiAneja/Documents/AI/Cafeteria/OpenCV-Python-Series-master/src_final/final_ph_out/0328/0328/Kunal/kunal_871/objects/McNuggets9004.jpg\n",
      "/Users/NidhiAneja/Documents/AI/Cafeteria/OpenCV-Python-Series-master/src_final/final_ph_out/0328/0328/Kunal/kunal_871/objects/QuarterPounder2712.jpg\n",
      "/Users/NidhiAneja/Documents/AI/Cafeteria/OpenCV-Python-Series-master/src_final/final_ph_out/0328/0328/Kunal/kunal_871/objects/FruitSnacks4895.jpg\n",
      "/Users/NidhiAneja/Documents/AI/Cafeteria/OpenCV-Python-Series-master/src_final/final_ph_out/0328/0328/Kunal/kunal_871/objects/CinamonToastCrunch7059.jpg\n",
      "/Users/NidhiAneja/Documents/AI/Cafeteria/OpenCV-Python-Series-master/src_final/final_ph_out/0328/0328/Kunal/kunal_871/objects/CinamonToastCrunch2032.jpg\n",
      "/Users/NidhiAneja/Documents/AI/Cafeteria/OpenCV-Python-Series-master/src_final/final_ph_out/0328/0328/Kunal/kunal_871/objects/FruitSnacks7526.jpg\n",
      "/Users/NidhiAneja/Documents/AI/Cafeteria/OpenCV-Python-Series-master/src_final/final_ph_out/0328/0328/Kunal/srit_346/objects/QuarterPounder1880.jpg\n",
      "/Users/NidhiAneja/Documents/AI/Cafeteria/OpenCV-Python-Series-master/src_final/final_ph_out/0328/0328/Kunal/srit_346/objects/FruitSnacks1558.jpg\n",
      "/Users/NidhiAneja/Documents/AI/Cafeteria/OpenCV-Python-Series-master/src_final/final_ph_out/0328/0328/Kunal/srit_346/objects/FruitSnacks9930.jpg\n",
      "/Users/NidhiAneja/Documents/AI/Cafeteria/OpenCV-Python-Series-master/src_final/final_ph_out/0328/0328/Kunal/srit_346/objects/QuarterPounder3076.jpg\n",
      "/Users/NidhiAneja/Documents/AI/Cafeteria/OpenCV-Python-Series-master/src_final/final_ph_out/0328/0328/Kunal/srit_346/objects/FruitSnacks242.jpg\n",
      "/Users/NidhiAneja/Documents/AI/Cafeteria/OpenCV-Python-Series-master/src_final/final_ph_out/0328/0328/Kunal/srit_346/objects/FruitSnacks8092.jpg\n",
      "/Users/NidhiAneja/Documents/AI/Cafeteria/OpenCV-Python-Series-master/src_final/final_ph_out/0328/0328/Kunal/srit_346/objects/QuarterPounder2653.jpg\n",
      "/Users/NidhiAneja/Documents/AI/Cafeteria/OpenCV-Python-Series-master/src_final/final_ph_out/0328/0328/Kunal/srit_346/objects/QuarterPounder348.jpg\n",
      "/Users/NidhiAneja/Documents/AI/Cafeteria/OpenCV-Python-Series-master/src_final/final_ph_out/0328/0328/Kunal/srit_346/objects/FruitSnacks3710.jpg\n",
      "/Users/NidhiAneja/Documents/AI/Cafeteria/OpenCV-Python-Series-master/src_final/final_ph_out/0328/0328/Kunal/srit_346/objects/FruitSnacks510.jpg\n",
      "/Users/NidhiAneja/Documents/AI/Cafeteria/OpenCV-Python-Series-master/src_final/final_ph_out/0328/0328/Kunal/srit_346/objects/FruitSnacks300.jpg\n",
      "/Users/NidhiAneja/Documents/AI/Cafeteria/OpenCV-Python-Series-master/src_final/final_ph_out/0328/0328/Kunal/srit_346/objects/FruitSnacks8289.jpg\n",
      "/Users/NidhiAneja/Documents/AI/Cafeteria/OpenCV-Python-Series-master/src_final/final_ph_out/0328/0328/Kunal/srit_346/objects/FruitSnacks1817.jpg\n",
      "/Users/NidhiAneja/Documents/AI/Cafeteria/OpenCV-Python-Series-master/src_final/final_ph_out/0328/0328/Kunal/srit_346/objects/FruitSnacks2706.jpg\n",
      "/Users/NidhiAneja/Documents/AI/Cafeteria/OpenCV-Python-Series-master/src_final/final_ph_out/0328/0328/Kunal/sah_303/objects/FruitSnacks9577.jpg\n",
      "/Users/NidhiAneja/Documents/AI/Cafeteria/OpenCV-Python-Series-master/src_final/final_ph_out/0328/0328/Kunal/sah_303/objects/FruitSnacks1738.jpg\n",
      "/Users/NidhiAneja/Documents/AI/Cafeteria/OpenCV-Python-Series-master/src_final/final_ph_out/0328/0328/Kunal/sah_303/objects/McNuggets723.jpg\n",
      "/Users/NidhiAneja/Documents/AI/Cafeteria/OpenCV-Python-Series-master/src_final/final_ph_out/0328/0328/Kunal/sah_303/objects/FruitSnacks4878.jpg\n",
      "/Users/NidhiAneja/Documents/AI/Cafeteria/OpenCV-Python-Series-master/src_final/final_ph_out/0328/0328/Kunal/sah_303/objects/FruitSnacks6539.jpg\n",
      "/Users/NidhiAneja/Documents/AI/Cafeteria/OpenCV-Python-Series-master/src_final/final_ph_out/0328/0328/Kunal/sah_303/objects/QuarterPounder6204.jpg\n",
      "/Users/NidhiAneja/Documents/AI/Cafeteria/OpenCV-Python-Series-master/src_final/final_ph_out/0328/0328/Kunal/sah_303/objects/FruitSnacks5433.jpg\n",
      "/Users/NidhiAneja/Documents/AI/Cafeteria/OpenCV-Python-Series-master/src_final/final_ph_out/0328/0328/Kunal/srit_353/objects/FruitSnacks5660.jpg\n",
      "/Users/NidhiAneja/Documents/AI/Cafeteria/OpenCV-Python-Series-master/src_final/final_ph_out/0328/0328/Kunal/srit_353/objects/Chips7998.jpg\n",
      "/Users/NidhiAneja/Documents/AI/Cafeteria/OpenCV-Python-Series-master/src_final/final_ph_out/0328/0328/Kunal/srit_353/objects/GoldenGrahamsCereal3003.jpg\n",
      "/Users/NidhiAneja/Documents/AI/Cafeteria/OpenCV-Python-Series-master/src_final/final_ph_out/0328/0328/Kunal/srit_353/objects/FruitSnacks8427.jpg\n",
      "/Users/NidhiAneja/Documents/AI/Cafeteria/OpenCV-Python-Series-master/src_final/final_ph_out/0328/0328/Kunal/srit_353/objects/McNuggets6319.jpg\n",
      "/Users/NidhiAneja/Documents/AI/Cafeteria/OpenCV-Python-Series-master/src_final/final_ph_out/0328/0328/Kunal/srit_353/objects/FruitSnacks2477.jpg\n",
      "/Users/NidhiAneja/Documents/AI/Cafeteria/OpenCV-Python-Series-master/src_final/final_ph_out/0328/0328/Kunal/srit_353/objects/FruitSnacks6837.jpg\n",
      "/Users/NidhiAneja/Documents/AI/Cafeteria/OpenCV-Python-Series-master/src_final/final_ph_out/0328/0328/Kunal/srit_353/objects/FruitSnacks8374.jpg\n",
      "/Users/NidhiAneja/Documents/AI/Cafeteria/OpenCV-Python-Series-master/src_final/final_ph_out/0328/0328/Kunal/sah_241/objects/MilkPurple1537.jpg\n",
      "/Users/NidhiAneja/Documents/AI/Cafeteria/OpenCV-Python-Series-master/src_final/final_ph_out/0328/0328/Kunal/sah_241/objects/McNuggets5713.jpg\n",
      "/Users/NidhiAneja/Documents/AI/Cafeteria/OpenCV-Python-Series-master/src_final/final_ph_out/0328/0328/Kunal/sah_241/objects/McNuggets6619.jpg\n",
      "/Users/NidhiAneja/Documents/AI/Cafeteria/OpenCV-Python-Series-master/src_final/final_ph_out/0328/0328/Kunal/sah_241/objects/McNuggets4876.jpg\n",
      "/Users/NidhiAneja/Documents/AI/Cafeteria/OpenCV-Python-Series-master/src_final/final_ph_out/0328/0328/Kunal/sah_241/objects/McNuggets3313.jpg\n",
      "/Users/NidhiAneja/Documents/AI/Cafeteria/OpenCV-Python-Series-master/src_final/final_ph_out/0328/0328/Kunal/sah_241/objects/McNuggets9753.jpg\n",
      "/Users/NidhiAneja/Documents/AI/Cafeteria/OpenCV-Python-Series-master/src_final/final_ph_out/0328/0328/Kunal/sah_241/objects/MilkPurple3561.jpg\n",
      "/Users/NidhiAneja/Documents/AI/Cafeteria/OpenCV-Python-Series-master/src_final/final_ph_out/0328/0328/Kunal/sah_241/objects/MilkPurple9835.jpg\n",
      "/Users/NidhiAneja/Documents/AI/Cafeteria/OpenCV-Python-Series-master/src_final/final_ph_out/0328/0328/Kunal/sah_241/objects/QuarterPounder2039.jpg\n",
      "/Users/NidhiAneja/Documents/AI/Cafeteria/OpenCV-Python-Series-master/src_final/final_ph_out/0328/0328/Kunal/sah_241/objects/FruitSnacks2260.jpg\n",
      "/Users/NidhiAneja/Documents/AI/Cafeteria/OpenCV-Python-Series-master/src_final/final_ph_out/0328/0328/Kunal/sah_241/objects/QuarterPounder2360.jpg\n",
      "/Users/NidhiAneja/Documents/AI/Cafeteria/OpenCV-Python-Series-master/src_final/final_ph_out/0328/0328/Kunal/sah_676/objects/Chips6658.jpg\n",
      "/Users/NidhiAneja/Documents/AI/Cafeteria/OpenCV-Python-Series-master/src_final/final_ph_out/0328/0328/Kunal/sah_676/objects/GoldenGrahamsBar7232.jpg\n",
      "/Users/NidhiAneja/Documents/AI/Cafeteria/OpenCV-Python-Series-master/src_final/final_ph_out/0328/0328/Kunal/sah_676/objects/GoldenGrahamsBar8659.jpg\n",
      "/Users/NidhiAneja/Documents/AI/Cafeteria/OpenCV-Python-Series-master/src_final/final_ph_out/0328/0328/Kunal/sah_676/objects/GoldenGrahamsBar9779.jpg\n",
      "/Users/NidhiAneja/Documents/AI/Cafeteria/OpenCV-Python-Series-master/src_final/final_ph_out/0328/0328/Kunal/sah_676/objects/GoldenGrahamsBar4777.jpg\n",
      "/Users/NidhiAneja/Documents/AI/Cafeteria/OpenCV-Python-Series-master/src_final/final_ph_out/0328/0328/Kunal/sah_676/objects/QuarterPounder1175.jpg\n",
      "/Users/NidhiAneja/Documents/AI/Cafeteria/OpenCV-Python-Series-master/src_final/final_ph_out/0328/0328/Kunal/sah_676/objects/McNuggets8685.jpg\n",
      "/Users/NidhiAneja/Documents/AI/Cafeteria/OpenCV-Python-Series-master/src_final/final_ph_out/0328/0328/Kunal/sah_676/objects/GoldenGrahamsBar7686.jpg\n",
      "/Users/NidhiAneja/Documents/AI/Cafeteria/OpenCV-Python-Series-master/src_final/final_ph_out/0328/0328/Kunal/sah_676/objects/GoldenGrahamsCereal5217.jpg\n",
      "/Users/NidhiAneja/Documents/AI/Cafeteria/OpenCV-Python-Series-master/src_final/final_ph_out/0328/0328/Kunal/sah_676/objects/GoldenGrahamsBar8344.jpg\n",
      "/Users/NidhiAneja/Documents/AI/Cafeteria/OpenCV-Python-Series-master/src_final/final_ph_out/0328/0328/Kunal/sah_676/objects/McNuggets6238.jpg\n",
      "/Users/NidhiAneja/Documents/AI/Cafeteria/OpenCV-Python-Series-master/src_final/final_ph_out/0328/0328/Kunal/srit_449/objects/QuarterPounder339.jpg\n",
      "/Users/NidhiAneja/Documents/AI/Cafeteria/OpenCV-Python-Series-master/src_final/final_ph_out/0328/0328/Kunal/srit_449/objects/MilkPurple3047.jpg\n",
      "/Users/NidhiAneja/Documents/AI/Cafeteria/OpenCV-Python-Series-master/src_final/final_ph_out/0328/0328/Kunal/srit_449/objects/Chips1778.jpg\n",
      "/Users/NidhiAneja/Documents/AI/Cafeteria/OpenCV-Python-Series-master/src_final/final_ph_out/0328/0328/Kunal/srit_449/objects/GoldenGrahamsCereal8721.jpg\n",
      "/Users/NidhiAneja/Documents/AI/Cafeteria/OpenCV-Python-Series-master/src_final/final_ph_out/0328/0328/Kunal/srit_449/objects/McNuggets2180.jpg\n",
      "/Users/NidhiAneja/Documents/AI/Cafeteria/OpenCV-Python-Series-master/src_final/final_ph_out/0328/0328/Kunal/srit_449/objects/Chips2449.jpg\n",
      "/Users/NidhiAneja/Documents/AI/Cafeteria/OpenCV-Python-Series-master/src_final/final_ph_out/0328/0328/Kunal/srit_449/objects/McNuggets3058.jpg\n",
      "/Users/NidhiAneja/Documents/AI/Cafeteria/OpenCV-Python-Series-master/src_final/final_ph_out/0328/0328/Kunal/srit_449/objects/Chips9687.jpg\n",
      "/Users/NidhiAneja/Documents/AI/Cafeteria/OpenCV-Python-Series-master/src_final/final_ph_out/0328/0328/Kunal/srit_449/objects/Chips3985.jpg\n",
      "/Users/NidhiAneja/Documents/AI/Cafeteria/OpenCV-Python-Series-master/src_final/final_ph_out/0328/0328/Kunal/srit_449/objects/McNuggets6249.jpg\n",
      "/Users/NidhiAneja/Documents/AI/Cafeteria/OpenCV-Python-Series-master/src_final/final_ph_out/0328/0328/Kunal/srit_449/objects/McNuggets4073.jpg\n",
      "/Users/NidhiAneja/Documents/AI/Cafeteria/OpenCV-Python-Series-master/src_final/final_ph_out/0328/0328/Kunal/srit_449/objects/McNuggets7744.jpg\n",
      "/Users/NidhiAneja/Documents/AI/Cafeteria/OpenCV-Python-Series-master/src_final/final_ph_out/0328/0328/Kunal/srit_449/objects/Chips5819.jpg\n",
      "/Users/NidhiAneja/Documents/AI/Cafeteria/OpenCV-Python-Series-master/src_final/final_ph_out/0328/0328/Kunal/srit_449/objects/Chips6685.jpg\n",
      "/Users/NidhiAneja/Documents/AI/Cafeteria/OpenCV-Python-Series-master/src_final/final_ph_out/0328/0328/Kunal/srit_449/objects/GoldenGrahamsCereal9309.jpg\n",
      "/Users/NidhiAneja/Documents/AI/Cafeteria/OpenCV-Python-Series-master/src_final/final_ph_out/0328/0328/Kunal/srit_449/objects/Chips7577.jpg\n",
      "/Users/NidhiAneja/Documents/AI/Cafeteria/OpenCV-Python-Series-master/src_final/final_ph_out/0328/0328/Kunal/srit_449/objects/Chips772.jpg\n",
      "/Users/NidhiAneja/Documents/AI/Cafeteria/OpenCV-Python-Series-master/src_final/final_ph_out/0328/0328/Kunal/srit_449/objects/Chips6046.jpg\n",
      "/Users/NidhiAneja/Documents/AI/Cafeteria/OpenCV-Python-Series-master/src_final/final_ph_out/0328/0328/Kunal/srit_449/objects/McNuggets1793.jpg\n",
      "/Users/NidhiAneja/Documents/AI/Cafeteria/OpenCV-Python-Series-master/src_final/final_ph_out/0328/0328/Kunal/kunal_460/objects/CheezIts7231.jpg\n",
      "/Users/NidhiAneja/Documents/AI/Cafeteria/OpenCV-Python-Series-master/src_final/final_ph_out/0328/0328/Kunal/kunal_460/objects/McNuggets6155.jpg\n",
      "/Users/NidhiAneja/Documents/AI/Cafeteria/OpenCV-Python-Series-master/src_final/final_ph_out/0328/0328/Kunal/kunal_460/objects/Cheerios795.jpg\n",
      "/Users/NidhiAneja/Documents/AI/Cafeteria/OpenCV-Python-Series-master/src_final/final_ph_out/0328/0328/Kunal/kunal_460/objects/CinamonToastCrunch851.jpg\n",
      "/Users/NidhiAneja/Documents/AI/Cafeteria/OpenCV-Python-Series-master/src_final/final_ph_out/0328/0328/Kunal/kunal_460/objects/McNuggets5599.jpg\n",
      "/Users/NidhiAneja/Documents/AI/Cafeteria/OpenCV-Python-Series-master/src_final/final_ph_out/0328/0328/Kunal/kunal_460/objects/QuarterPounder2913.jpg\n",
      "/Users/NidhiAneja/Documents/AI/Cafeteria/OpenCV-Python-Series-master/src_final/final_ph_out/0328/0328/Kunal/kunal_460/objects/Pizza3557.jpg\n",
      "/Users/NidhiAneja/Documents/AI/Cafeteria/OpenCV-Python-Series-master/src_final/final_ph_out/0328/0328/Kunal/kunal_460/objects/GoldenGrahamsCereal6912.jpg\n",
      "/Users/NidhiAneja/Documents/AI/Cafeteria/OpenCV-Python-Series-master/src_final/final_ph_out/0328/0328/Kunal/kunal_460/objects/CheezIts2879.jpg\n",
      "/Users/NidhiAneja/Documents/AI/Cafeteria/OpenCV-Python-Series-master/src_final/final_ph_out/0328/0328/Kunal/kunal_460/objects/GoldenGrahamsCereal5385.jpg\n",
      "/Users/NidhiAneja/Documents/AI/Cafeteria/OpenCV-Python-Series-master/src_final/final_ph_out/0328/0328/Kunal/kunal_460/objects/McNuggets8853.jpg\n",
      "/Users/NidhiAneja/Documents/AI/Cafeteria/OpenCV-Python-Series-master/src_final/final_ph_out/0328/0328/Kunal/kunal_460/objects/CheezIts8972.jpg\n",
      "/Users/NidhiAneja/Documents/AI/Cafeteria/OpenCV-Python-Series-master/src_final/final_ph_out/0328/0328/Kunal/kunal_460/objects/McNuggets478.jpg\n",
      "/Users/NidhiAneja/Documents/AI/Cafeteria/OpenCV-Python-Series-master/src_final/final_ph_out/0328/0328/Kunal/kunal_460/objects/Cheerios2214.jpg\n",
      "/Users/NidhiAneja/Documents/AI/Cafeteria/OpenCV-Python-Series-master/src_final/final_ph_out/0328/0328/Kunal/kunal_460/objects/Pizza3466.jpg\n",
      "/Users/NidhiAneja/Documents/AI/Cafeteria/OpenCV-Python-Series-master/src_final/final_ph_out/0328/0328/Kunal/kunal_460/objects/FruitSnacks3147.jpg\n",
      "TOTAL NUMBER OF PHOTOS IS >>> 112 <<<\n"
     ]
    },
    {
     "data": {
      "text/plain": [
       "'\\nuser = input()\\nif user == \"y\" or user == \"yes\" or user == \"Y\" or user == \"YES\" or user == \"Yes\":\\n    print(\"CONTINUE\")\\nelse:\\n    print(\"STOP\")\\n    50 % 0\\n'"
      ]
     },
     "execution_count": 69,
     "metadata": {},
     "output_type": "execute_result"
    }
   ],
   "source": [
    "numberofph = 0\n",
    "for filess in allojectfld:\n",
    "    #print(filess)\n",
    "    for all_ph in os.listdir(filess):\n",
    "        #print(all_ph)\n",
    "        hh = os.path.join(filess, all_ph)\n",
    "        print(hh)\n",
    "        shutil.move(hh, )\n",
    "        numberofph += 1\n",
    "print(\"TOTAL NUMBER OF PHOTOS IS >>>\", numberofph, \"<<<\")\n",
    "'''\n",
    "user = input()\n",
    "if user == \"y\" or user == \"yes\" or user == \"Y\" or user == \"YES\" or user == \"Yes\":\n",
    "    print(\"CONTINUE\")\n",
    "else:\n",
    "    print(\"STOP\")\n",
    "    50 % 0\n",
    "'''"
   ]
  },
  {
   "cell_type": "code",
   "execution_count": null,
   "metadata": {},
   "outputs": [],
   "source": []
  }
 ],
 "metadata": {
  "kernelspec": {
   "display_name": "Python 3",
   "language": "python",
   "name": "python3"
  },
  "language_info": {
   "codemirror_mode": {
    "name": "ipython",
    "version": 3
   },
   "file_extension": ".py",
   "mimetype": "text/x-python",
   "name": "python",
   "nbconvert_exporter": "python",
   "pygments_lexer": "ipython3",
   "version": "3.6.5"
  }
 },
 "nbformat": 4,
 "nbformat_minor": 2
}
