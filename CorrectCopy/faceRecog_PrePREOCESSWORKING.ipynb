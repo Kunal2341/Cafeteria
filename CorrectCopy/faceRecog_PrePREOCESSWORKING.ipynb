{
 "cells": [
  {
   "cell_type": "code",
   "execution_count": 1,
   "metadata": {},
   "outputs": [],
   "source": [
    "import cv2\n",
    "import numpy as np\n",
    "import time\n",
    "import os\n",
    "import shutil\n",
    "from PIL import Image\n",
    "import psutil\n",
    "import random\n",
    "import datetime\n",
    "from pprint import pprint\n",
    "#--------\n",
    "import cv2\n",
    "import os\n",
    "import numpy as np\n",
    "import pickle\n",
    "import datetime\n",
    "import glob\n",
    "import matplotlib.pyplot as plt"
   ]
  },
  {
   "cell_type": "code",
   "execution_count": 156,
   "metadata": {},
   "outputs": [],
   "source": [
    "#Folder to save video *new\n",
    "base_dir ='/Users/NidhiAneja/Documents/AI/Cafeteria/OpenCV-Python-Series-master/src_final/final_ph_out/0328/0328Face/Srit/srit_116/'\n",
    "os.chdir(base_dir)"
   ]
  },
  {
   "cell_type": "code",
   "execution_count": 157,
   "metadata": {},
   "outputs": [
    {
     "data": {
      "text/plain": [
       "'/Users/NidhiAneja/Documents/AI/Cafeteria/OpenCV-Python-Series-master/src_final/final_ph_out/0328/0328Face/Srit/srit_116/'"
      ]
     },
     "execution_count": 157,
     "metadata": {},
     "output_type": "execute_result"
    }
   ],
   "source": [
    "base_dir"
   ]
  },
  {
   "cell_type": "code",
   "execution_count": 158,
   "metadata": {},
   "outputs": [],
   "source": [
    "\n",
    "def extract_image_one_fps(video_source_path):\n",
    "    vidcap = cv2.VideoCapture(video_source_path)\n",
    "    count = 0\n",
    "    success = True\n",
    "    while success:\n",
    "        vidcap.set(cv2.CAP_PROP_POS_MSEC,(count*1000)) # 2 second***   \n",
    "        success,image = vidcap.read()\n",
    "        ## Stop when last frame is identified\n",
    "        image_last = cv2.imread(\"frame{}.png\".format(count-1))\n",
    "        if np.array_equal(image, image_last):\n",
    "            break\n",
    "        cv2.imwrite(\"frame%d.png\" % count, image)     # save frame as PNG file\n",
    "        print( '{}.sec reading a new frame:{}'.format(count,success))\n",
    "        count += 1"
   ]
  },
  {
   "cell_type": "code",
   "execution_count": 159,
   "metadata": {},
   "outputs": [],
   "source": [
    "#function to detect face using OpenCV\n",
    "def detect_face(img):\n",
    "    #convert the test image to gray image as opencv face detector expects gray images\n",
    "    gray = cv2.cvtColor(img, cv2.COLOR_BGR2GRAY)\n",
    "    #load OpenCV face detector, I am using LBP which is fast\n",
    "    #there is also a more accurate but slow Haar classifier\n",
    "    face_cascade = cv2.CascadeClassifier('/Users/NidhiAneja/Documents/AI/Cafeteria/OpenCV-Python-Series-master/src_final/lbpcascades/lbpcascade_frontalface.xml')\n",
    "    #let's detect multiscale (some images may be closer to camera than others) images\n",
    "    #result is a list of faces\n",
    "    faces = face_cascade.detectMultiScale(gray, scaleFactor=1.2, minNeighbors=5)\n",
    "    #if no faces are detected then return original img\n",
    "    if (len(faces) == 0):\n",
    "        return None, None\n",
    "    #under the assumption that there will be only one face,\n",
    "    #extract the face area\n",
    "    (x, y, w, h) = faces[0]\n",
    "    #return only the face part of the image\n",
    "    return gray[y:y+w, x:x+h], faces[0]"
   ]
  },
  {
   "cell_type": "code",
   "execution_count": 160,
   "metadata": {},
   "outputs": [],
   "source": [
    "# VIDEO TO FACE EXTRACTION"
   ]
  },
  {
   "cell_type": "code",
   "execution_count": 161,
   "metadata": {},
   "outputs": [
    {
     "name": "stdout",
     "output_type": "stream",
     "text": [
      "['CAFETERIA_face.mp4']\n"
     ]
    }
   ],
   "source": [
    "video_path = (base_dir)\n",
    "videos = os.listdir(base_dir)\n",
    "if '.DS_Store' in videos: videos.remove('.DS_Store')        \n",
    "print(videos)"
   ]
  },
  {
   "cell_type": "code",
   "execution_count": 162,
   "metadata": {},
   "outputs": [
    {
     "name": "stdout",
     "output_type": "stream",
     "text": [
      "/Users/NidhiAneja/Documents/AI/Cafeteria/OpenCV-Python-Series-master/src_final/final_ph_out/0328/0328Face/Srit/srit_116/CAFETERIA_face.mp4\n",
      "0.sec reading a new frame:True\n",
      "1.sec reading a new frame:True\n",
      "2.sec reading a new frame:True\n",
      "3.sec reading a new frame:True\n",
      "4.sec reading a new frame:True\n",
      "5.sec reading a new frame:True\n",
      "6.sec reading a new frame:True\n",
      "7.sec reading a new frame:True\n",
      "8.sec reading a new frame:True\n",
      "9.sec reading a new frame:True\n",
      "10.sec reading a new frame:True\n",
      "11.sec reading a new frame:True\n",
      "12.sec reading a new frame:True\n",
      "13.sec reading a new frame:True\n",
      "14.sec reading a new frame:True\n",
      "15.sec reading a new frame:False\n",
      "File Removed!\n",
      "File Removed!\n"
     ]
    }
   ],
   "source": [
    "i = 0\n",
    "for i in range(len(videos)):\n",
    "    \n",
    "    #os.chdir(os.path.join(video_path, videos[i]))\n",
    "\n",
    "    X = os.listdir(\".\")\n",
    "    if '.DS_Store' in X: X.remove('.DS_Store')\n",
    "    X[0]\n",
    "    print(os.path.join(video_path, X[0] ) )\n",
    "    extract_image_one_fps(os.path.join(video_path, X[0] ) ) \n",
    "\n",
    "    # cleanup 2 #zero bytes file\n",
    "    for filename in os.listdir(os.path.join(video_path)):\n",
    "         if os.path.getsize(filename) == 0:\n",
    "                os.remove(filename) \n",
    "\n",
    "    os.chdir(os.path.join(video_path))\n",
    "    photo_path = os.path.join(video_path)\n",
    "    face_frames = os.listdir(os.path.join(video_path))\n",
    "    if '.DS_Store' in face_frames: face_frames.remove('.DS_Store')\n",
    "\n",
    "\n",
    "    # Video file removed\n",
    "    for face_frames1 in face_frames:#os.listdir(os.path.join(video_in, student_name)):\n",
    "        if face_frames1.endswith(\"mp4\") or  face_frames1.endswith(\"avi\"):\n",
    "            os.remove(face_frames1) \n",
    "\n",
    "    face_frames = os.listdir(os.path.join(video_path))\n",
    "    if '.DS_Store' in face_frames: face_frames.remove('.DS_Store')        \n",
    "\n",
    "    k=0\n",
    "    for FRAMES in face_frames:\n",
    "        tmp = cv2.imread(os.path.join(photo_path, FRAMES) )\n",
    "        #tmp = rotate_image(tmp, 270) # DONT ROTATE\n",
    "        face, rect = detect_face(tmp)\n",
    "        k += 1\n",
    "        img_nm =  videos[i] + str(k) + \".png\"\n",
    "        cv2.imwrite(img_nm, face)\n",
    "\n",
    "    # Frames removed\n",
    "    for filename in os.listdir(os.path.join(video_path) ):\n",
    "        if filename.startswith(\"frame\"):\n",
    "            os.remove(filename) \n",
    "\n",
    "    # cleanup 2 #zero bytes file\n",
    "    for filename in os.listdir(os.path.join(video_path) ):\n",
    "         if os.path.getsize(filename) == 0:\n",
    "                os.remove(filename) \n",
    "                print(\"File Removed!\")        "
   ]
  },
  {
   "cell_type": "code",
   "execution_count": null,
   "metadata": {},
   "outputs": [],
   "source": []
  },
  {
   "cell_type": "code",
   "execution_count": null,
   "metadata": {},
   "outputs": [],
   "source": []
  },
  {
   "cell_type": "code",
   "execution_count": null,
   "metadata": {},
   "outputs": [],
   "source": []
  },
  {
   "cell_type": "code",
   "execution_count": null,
   "metadata": {},
   "outputs": [],
   "source": []
  },
  {
   "cell_type": "code",
   "execution_count": null,
   "metadata": {},
   "outputs": [],
   "source": []
  },
  {
   "cell_type": "code",
   "execution_count": null,
   "metadata": {},
   "outputs": [],
   "source": []
  },
  {
   "cell_type": "code",
   "execution_count": null,
   "metadata": {},
   "outputs": [],
   "source": []
  },
  {
   "cell_type": "code",
   "execution_count": null,
   "metadata": {},
   "outputs": [],
   "source": []
  },
  {
   "cell_type": "code",
   "execution_count": null,
   "metadata": {},
   "outputs": [],
   "source": []
  },
  {
   "cell_type": "code",
   "execution_count": null,
   "metadata": {},
   "outputs": [],
   "source": []
  }
 ],
 "metadata": {
  "kernelspec": {
   "display_name": "Python 3",
   "language": "python",
   "name": "python3"
  },
  "language_info": {
   "codemirror_mode": {
    "name": "ipython",
    "version": 3
   },
   "file_extension": ".py",
   "mimetype": "text/x-python",
   "name": "python",
   "nbconvert_exporter": "python",
   "pygments_lexer": "ipython3",
   "version": "3.7.3"
  }
 },
 "nbformat": 4,
 "nbformat_minor": 2
}
