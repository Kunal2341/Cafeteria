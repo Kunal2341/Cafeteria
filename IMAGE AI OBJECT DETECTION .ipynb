{
 "cells": [
  {
   "cell_type": "markdown",
   "metadata": {},
   "source": [
    "# ImageAI - CUT THE PLATE"
   ]
  },
  {
   "cell_type": "code",
   "execution_count": 106,
   "metadata": {},
   "outputs": [],
   "source": [
    "#!pip3 install https://github.com/OlafenwaMoses/ImageAI/releases/download/2.0.2/imageai-2.0.2-py3-none-any.whl"
   ]
  },
  {
   "cell_type": "code",
   "execution_count": 107,
   "metadata": {},
   "outputs": [],
   "source": [
    "from imageai.Prediction import ImagePrediction\n",
    "import os\n",
    "from imageai.Detection import ObjectDetection\n",
    "detector = ObjectDetection()"
   ]
  },
  {
   "cell_type": "code",
   "execution_count": 108,
   "metadata": {},
   "outputs": [
    {
     "name": "stdout",
     "output_type": "stream",
     "text": [
      "\u001b[34mImageAI-1.0\u001b[m\u001b[m \u001b[34mMODELS\u001b[m\u001b[m\r\n"
     ]
    }
   ],
   "source": [
    "#execution_path = os.getcwd()\n",
    "execution_path = os.chdir('/Users/NidhiAneja/Documents/AI/IMAGE_AI/ImageAI-master')\n",
    "!ls '/Users/NidhiAneja/Documents/AI/IMAGE_AI/ImageAI-master/'"
   ]
  },
  {
   "cell_type": "code",
   "execution_count": 109,
   "metadata": {},
   "outputs": [],
   "source": [
    "# model list\n",
    "# detector.setModelTypeAsRetinaNet()\n",
    "# detector.setModelTypeAsYOLOv3()\n",
    "# detector.setModelTypeAsTinyYOLOv3()"
   ]
  },
  {
   "cell_type": "code",
   "execution_count": 110,
   "metadata": {},
   "outputs": [
    {
     "data": {
      "text/plain": [
       "\"\\n#MODEL 1 \\ndetector = ObjectDetection()\\ndetector.setModelTypeAsYOLOv3()\\ndetector.setModelPath('/Users/NidhiAneja/Documents/AI/IMAGE_AI/ImageAI-master/MODELS/yolo.h5')\\ndetector.loadModel()\\n\""
      ]
     },
     "execution_count": 110,
     "metadata": {},
     "output_type": "execute_result"
    }
   ],
   "source": [
    "'''\n",
    "#MODEL 1 \n",
    "detector = ObjectDetection()\n",
    "detector.setModelTypeAsYOLOv3()\n",
    "detector.setModelPath('/Users/NidhiAneja/Documents/AI/IMAGE_AI/ImageAI-master/MODELS/yolo.h5')\n",
    "detector.loadModel()\n",
    "'''"
   ]
  },
  {
   "cell_type": "code",
   "execution_count": 111,
   "metadata": {},
   "outputs": [],
   "source": [
    "\n",
    "#MODEL 2 \n",
    "detector = ObjectDetection()\n",
    "detector.setModelTypeAsRetinaNet()\n",
    "detector.setModelPath('/Users/NidhiAneja/Documents/AI/IMAGE_AI/ImageAI-master/MODELS/resnet50_coco_best_v2.0.1.h5')\n",
    "detector.loadModel()"
   ]
  },
  {
   "cell_type": "code",
   "execution_count": 112,
   "metadata": {},
   "outputs": [
    {
     "data": {
      "text/plain": [
       "\"\\n#MODEL 3\\ndetector = ObjectDetection()\\ndetector.setModelTypeAsTinyYOLOv3()\\ndetector.setModelPath('/Users/NidhiAneja/Documents/AI/IMAGE_AI/ImageAI-master/MODELS/yolo-tiny.h5')\\ndetector.loadModel()\\n\""
      ]
     },
     "execution_count": 112,
     "metadata": {},
     "output_type": "execute_result"
    }
   ],
   "source": [
    "'''\n",
    "#MODEL 3\n",
    "detector = ObjectDetection()\n",
    "detector.setModelTypeAsTinyYOLOv3()\n",
    "detector.setModelPath('/Users/NidhiAneja/Documents/AI/IMAGE_AI/ImageAI-master/MODELS/yolo-tiny.h5')\n",
    "detector.loadModel()\n",
    "'''"
   ]
  },
  {
   "cell_type": "code",
   "execution_count": 117,
   "metadata": {},
   "outputs": [],
   "source": [
    "try_in_img = '/Users/NidhiAneja/Documents/AI/IMAGE_AI/ImageAI-master/ImageAI-1.0/images/food_tray.jpg'\n",
    "try_out_img = '/Users/NidhiAneja/Documents/AI/IMAGE_AI/ImageAI-master/ImageAI-1.0/images2/imagenew.jpg'"
   ]
  },
  {
   "cell_type": "code",
   "execution_count": 118,
   "metadata": {},
   "outputs": [],
   "source": [
    "custom_objects = detector.CustomObjects(bottle = True,\n",
    "                                        cup = True,\n",
    "                                        banana = True, \n",
    "                                        apple = True,\n",
    "                                        sandwich = True,\n",
    "                                        orange = True, \n",
    "                                        broccoli = True,\n",
    "                                        carrot = True, \n",
    "                                        pizza = True, \n",
    "                                        cake = True, \n",
    "                                        hot_dog = True)"
   ]
  },
  {
   "cell_type": "code",
   "execution_count": 121,
   "metadata": {},
   "outputs": [],
   "source": [
    "'''\n",
    "a = '/Users/NidhiAneja/Documents/AI/IMAGE_AI/ImageAI-master/ImageAI-1.0/test_img/'\n",
    "i = 0\n",
    "while i < 6:\n",
    "    i+=1    \n",
    "    for the_file in os.listdir(a):\n",
    "        try_img_test = os.path.join(a, the_file)\n",
    "        try_img_test\n",
    "'''\n",
    "detections, objects_path = detector.detectCustomObjectsFromImage(custom_objects = custom_objects,\n",
    "                                                                 input_image=try_in_img,\n",
    "                                                                 output_image_path=try_out_img,\n",
    "                                                                 minimum_percentage_probability=10,\n",
    "                                                                 extract_detected_objects=True)"
   ]
  },
  {
   "cell_type": "code",
   "execution_count": null,
   "metadata": {},
   "outputs": [],
   "source": []
  },
  {
   "cell_type": "code",
   "execution_count": 122,
   "metadata": {
    "scrolled": true
   },
   "outputs": [
    {
     "name": "stdout",
     "output_type": "stream",
     "text": [
      "carrot  :  13.188138604164124\n",
      "-------------------------------------------------------------\n",
      "carrot  :  16.761839389801025\n",
      "-------------------------------------------------------------\n",
      "carrot  :  11.353301256895065\n",
      "-------------------------------------------------------------\n",
      "carrot  :  10.015062242746353\n",
      "-------------------------------------------------------------\n",
      "carrot  :  20.58698832988739\n",
      "-------------------------------------------------------------\n",
      "carrot  :  11.897600442171097\n",
      "-------------------------------------------------------------\n",
      "broccoli  :  29.415708780288696\n",
      "-------------------------------------------------------------\n",
      "carrot  :  13.960160315036774\n",
      "-------------------------------------------------------------\n",
      "hot dog  :  11.7109976708889\n",
      "-------------------------------------------------------------\n",
      "cup  :  22.591622173786163\n",
      "-------------------------------------------------------------\n",
      "cup  :  20.346693694591522\n",
      "-------------------------------------------------------------\n",
      "orange  :  11.691530793905258\n",
      "-------------------------------------------------------------\n",
      "orange  :  15.865406394004822\n",
      "-------------------------------------------------------------\n",
      "banana  :  14.863014221191406\n",
      "-------------------------------------------------------------\n",
      "orange  :  18.517449498176575\n",
      "-------------------------------------------------------------\n",
      "apple  :  18.157197535037994\n",
      "-------------------------------------------------------------\n",
      "cup  :  10.68224161863327\n",
      "-------------------------------------------------------------\n",
      "broccoli  :  16.11751914024353\n",
      "-------------------------------------------------------------\n",
      "sandwich  :  12.584799528121948\n",
      "-------------------------------------------------------------\n",
      "apple  :  11.989142000675201\n",
      "-------------------------------------------------------------\n",
      "apple  :  10.986844450235367\n",
      "-------------------------------------------------------------\n",
      "orange  :  12.891146540641785\n",
      "-------------------------------------------------------------\n",
      "sandwich  :  10.047091543674469\n",
      "-------------------------------------------------------------\n",
      "sandwich  :  15.265755355358124\n",
      "-------------------------------------------------------------\n",
      "carrot  :  41.5193110704422\n",
      "-------------------------------------------------------------\n",
      "sandwich  :  18.017815053462982\n",
      "-------------------------------------------------------------\n",
      "bottle  :  12.676525115966797\n",
      "-------------------------------------------------------------\n",
      "cup  :  13.076011836528778\n",
      "-------------------------------------------------------------\n",
      "apple  :  15.65888524055481\n",
      "-------------------------------------------------------------\n",
      "cup  :  29.63312864303589\n",
      "-------------------------------------------------------------\n",
      "sandwich  :  23.702117800712585\n",
      "-------------------------------------------------------------\n",
      "cake  :  21.50331884622574\n",
      "-------------------------------------------------------------\n",
      "pizza  :  13.759543001651764\n",
      "-------------------------------------------------------------\n",
      "cake  :  22.96948879957199\n",
      "-------------------------------------------------------------\n",
      "bottle  :  16.4216086268425\n",
      "-------------------------------------------------------------\n",
      "bottle  :  16.624554991722107\n",
      "-------------------------------------------------------------\n",
      "cup  :  12.227381765842438\n",
      "-------------------------------------------------------------\n"
     ]
    }
   ],
   "source": [
    "for eachObject, eachObjectPath in zip(detections, objects_path):\n",
    "    print(eachObject[\"name\"] , \" : \", eachObject[\"percentage_probability\"])\n",
    "    #print(\"Object's image saved in \"+ eachObjectPath)\n",
    "    print(\"-------------------------------------------------------------\")\n",
    "    \n",
    "    '''if eachObject == 0:\n",
    "        print(\"Nothing found\")\n",
    "        break'''"
   ]
  },
  {
   "cell_type": "code",
   "execution_count": null,
   "metadata": {},
   "outputs": [],
   "source": []
  }
 ],
 "metadata": {
  "kernelspec": {
   "display_name": "Python 3",
   "language": "python",
   "name": "python3"
  },
  "language_info": {
   "codemirror_mode": {
    "name": "ipython",
    "version": 3
   },
   "file_extension": ".py",
   "mimetype": "text/x-python",
   "name": "python",
   "nbconvert_exporter": "python",
   "pygments_lexer": "ipython3",
   "version": "3.6.5"
  }
 },
 "nbformat": 4,
 "nbformat_minor": 2
}
